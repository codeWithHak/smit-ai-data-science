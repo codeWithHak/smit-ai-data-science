{
 "cells": [
  {
   "cell_type": "markdown",
   "metadata": {},
   "source": [
    "# Topic: print()"
   ]
  },
  {
   "cell_type": "markdown",
   "metadata": {},
   "source": [
    "1) Using the python print function print any string value, integer value, boolean value, float value in single print command"
   ]
  },
  {
   "cell_type": "code",
   "execution_count": 5,
   "metadata": {},
   "outputs": [
    {
     "name": "stdout",
     "output_type": "stream",
     "text": [
      "Hello World 10 True 10.0\n"
     ]
    }
   ],
   "source": [
    "print(\"Hello World\", 10, True, 10.0)"
   ]
  },
  {
   "cell_type": "markdown",
   "metadata": {},
   "source": [
    "2) Using the python print function print hyphon(-) separated any string value, integer value, boolean value, float value in single print command"
   ]
  },
  {
   "cell_type": "code",
   "execution_count": 7,
   "metadata": {},
   "outputs": [
    {
     "name": "stdout",
     "output_type": "stream",
     "text": [
      "string vlaue - 20 - True\n"
     ]
    }
   ],
   "source": [
    "print(f\"string vlaue - {int(20)} - {bool(True)}\")"
   ]
  },
  {
   "cell_type": "markdown",
   "metadata": {},
   "source": [
    "3) Using the python print function print any string value, integer value, boolean value, float value in separate print command.\n",
    "But every value must be space separated and in single line "
   ]
  },
  {
   "cell_type": "code",
   "execution_count": 11,
   "metadata": {},
   "outputs": [
    {
     "name": "stdout",
     "output_type": "stream",
     "text": [
      "Hello 10 10.0 "
     ]
    }
   ],
   "source": [
    "print(\"Hello\",end=\" \")\n",
    "print(10,end=\" \")\n",
    "print(10.00,end=\" \")\n"
   ]
  },
  {
   "cell_type": "markdown",
   "metadata": {},
   "source": [
    "4) Can a python print function take no value to print???"
   ]
  },
  {
   "cell_type": "code",
   "execution_count": 25,
   "metadata": {},
   "outputs": [
    {
     "name": "stdout",
     "output_type": "stream",
     "text": [
      "\n"
     ]
    }
   ],
   "source": [
    "print() #yes"
   ]
  },
  {
   "cell_type": "markdown",
   "metadata": {},
   "source": [
    "# TOPIC :Variables "
   ]
  },
  {
   "cell_type": "markdown",
   "metadata": {},
   "source": [
    "5) One of my friends name is Mr. Ahmed. He is 30 years old.  He is a lawer by profession. He has done his bachelors in law in the year 2005. He is working with a reputable law firm 'The Himalya Associates' in Karachi since 2015.\n",
    "He is a handsome lawer with height of 5.10 feets and weight 70600g. His monthly income is Rs. 200k PKR.\n",
    "\n",
    "Note: Create variables from above text and also assign values from the text.  "
   ]
  },
  {
   "cell_type": "code",
   "execution_count": 29,
   "metadata": {},
   "outputs": [],
   "source": [
    "name = \"Ahmed\"\n",
    "age = 30\n",
    "profession = \"Lawyer\"\n",
    "graduation_year = 2005\n",
    "firm_name = \"The Himalya Associates\"\n",
    "firm_joining_year = 2015\n",
    "firm_location = \"Karachi\"\n",
    "height = 5.10\n",
    "weight = 70600\n",
    "salary = 200000\n"
   ]
  },
  {
   "cell_type": "markdown",
   "metadata": {},
   "source": [
    "6)How many years has been to Mr. Ahmed after his bachelors degree? Create a variable that hold current year value and then subtract it from his passout year"
   ]
  },
  {
   "cell_type": "code",
   "execution_count": 31,
   "metadata": {},
   "outputs": [
    {
     "name": "stdout",
     "output_type": "stream",
     "text": [
      "20\n"
     ]
    }
   ],
   "source": [
    "current_year = 2025\n",
    "\n",
    "print(current_year - graduation_year)"
   ]
  },
  {
   "cell_type": "markdown",
   "metadata": {},
   "source": [
    "7) How many years has Mr. Ahmed been working with law firm 'The Himalya Associates'. Create necesary variables and print the correct number of years in working in the firm"
   ]
  },
  {
   "cell_type": "code",
   "execution_count": 35,
   "metadata": {},
   "outputs": [
    {
     "name": "stdout",
     "output_type": "stream",
     "text": [
      "10\n"
     ]
    }
   ],
   "source": [
    "print(current_year - firm_joining_year)"
   ]
  },
  {
   "cell_type": "markdown",
   "metadata": {},
   "source": [
    "8)Convert the monthly income of Mr. Ahmed in dollars.  Create necesary variables and print the income in dollars."
   ]
  },
  {
   "cell_type": "code",
   "execution_count": 81,
   "metadata": {},
   "outputs": [
    {
     "name": "stdout",
     "output_type": "stream",
     "text": [
      "711.74\n"
     ]
    }
   ],
   "source": [
    "dollar = 281\n",
    "salary_in_dollar = salary / dollar\n",
    "print(f\"{salary_in_dollar:.2f}\")"
   ]
  },
  {
   "cell_type": "markdown",
   "metadata": {},
   "source": [
    "9) Check if the income in dollars is a float or integer value. if it is float, re-write the code so that income gets converted in integer. print the income in integer type value"
   ]
  },
  {
   "cell_type": "code",
   "execution_count": 111,
   "metadata": {},
   "outputs": [
    {
     "name": "stdout",
     "output_type": "stream",
     "text": [
      "<class 'int'>\n"
     ]
    }
   ],
   "source": [
    "#type your code here \n",
    "type_of_income = type(salary_in_dollar)\n",
    "print(type_of_income)\n",
    "\n",
    "if type_of_income is float:\n",
    "    salary_in_dollar = int(salary_in_dollar)\n",
    "    print(\"type_of_income:\", type_of_income)\n"
   ]
  },
  {
   "cell_type": "raw",
   "metadata": {},
   "source": [
    "10) Print the type of Mr. Ahmed's weight. Convert the weight of Mr. Ahmed in kg so that weight must be a integer value. "
   ]
  },
  {
   "cell_type": "code",
   "execution_count": 123,
   "metadata": {},
   "outputs": [
    {
     "name": "stdout",
     "output_type": "stream",
     "text": [
      "<class 'int'>\n",
      "<class 'str'>\n",
      "<class 'int'>\n"
     ]
    }
   ],
   "source": [
    "type_of_weight = type(weight)\n",
    "print(type_of_weight)\n",
    "int(weight)\n",
    "\n",
    "num = \"22\"\n",
    "print(type(num))\n",
    "\n",
    "num = int(num)\n",
    "print(type(num))"
   ]
  },
  {
   "cell_type": "markdown",
   "metadata": {},
   "source": [
    "print the year of birth of Mr. Ahmed."
   ]
  },
  {
   "cell_type": "code",
   "execution_count": 125,
   "metadata": {},
   "outputs": [
    {
     "name": "stdout",
     "output_type": "stream",
     "text": [
      "1995\n"
     ]
    }
   ],
   "source": [
    "#type your code here\n",
    "print(2025 - age)"
   ]
  },
  {
   "cell_type": "markdown",
   "metadata": {},
   "source": [
    "12) Can Rs. 100 be divided equally among 6 students? \n",
    "HINT: % operator"
   ]
  },
  {
   "cell_type": "code",
   "execution_count": 135,
   "metadata": {},
   "outputs": [
    {
     "name": "stdout",
     "output_type": "stream",
     "text": [
      "4\n",
      "100 can't be divided euqlly in 6 students\n"
     ]
    }
   ],
   "source": [
    "#type your \n",
    "print(100 % 6)\n",
    "print(\"100 can't be divided euqlly in 6 students\")"
   ]
  },
  {
   "cell_type": "markdown",
   "metadata": {},
   "source": [
    "# Topic: User input"
   ]
  },
  {
   "cell_type": "markdown",
   "metadata": {},
   "source": [
    "13) Take students detail as user input on console. Like \n",
    "name \n",
    "father name \n",
    "contact\n",
    "email\n",
    "Course\n",
    "Address\n",
    "Days \n",
    "Timings \n",
    "And print a formatted id card of student \n",
    "\n",
    "\n",
    "                                 Saylani Mass IT Training Program\n",
    "                                 _________________________________\n",
    "                                         Zaitoon Ashraf IT Park\n",
    "                    Student Name: Abdullah Khan\n",
    "                    Father Name : Amanullah Khan\n",
    "                    Course      : Data Science and Artificial Intelligence \n",
    "                    Days        : Monday & Thursday \n",
    "                    Timings     : 7pm - 10pm\n",
    "                    Email       : abdullah_khan@gmail.com\n",
    "                    Contact     : 1234567890\n",
    "                    Address     : Flat 201, Roha Arcade, CA\n",
    "                    \n",
    "                    \n",
    "                    Saylani Welfare International Trust Head Office (Bahadurabad Karachi)\n",
    "                    \n",
    "                    \n",
    "                    \n",
    "                    \n",
    "                    "
   ]
  },
  {
   "cell_type": "code",
   "execution_count": 148,
   "metadata": {},
   "outputs": [
    {
     "name": "stderr",
     "output_type": "stream",
     "text": [
      "\n",
      "KeyboardInterrupt\n",
      "\n"
     ]
    }
   ],
   "source": [
    "# Collect student details\n",
    "name = input(\"Enter Student Name: \")\n",
    "father_name = input(\"Enter Father's Name: \")\n",
    "contact = input(\"Enter Contact Number: \")\n",
    "email = input(\"Enter Email: \")\n",
    "course = input(\"Enter Course Name: \")\n",
    "address = input(\"Enter Address: \")\n",
    "days = input(\"Enter Class Days (e.g. Monday & Thursday): \")\n",
    "timings = input(\"Enter Class Timings (e.g. 7pm - 10pm): \")\n",
    "\n",
    "# Print the formatted ID card with alignment\n",
    "print(\"\\n\" + \" \" * 25 + \"Saylani Mass IT Training Program\")\n",
    "print(\" \" * 25 + \"_\" * 40)\n",
    "print(\" \" * 33 + \"Zaitoon Ashraf IT Park\")\n",
    "print(f\"{'Student Name':<15}: {name}\")\n",
    "print(f\"{'Father Name' :<15}: {father_name}\")\n",
    "print(f\"{'Course'      :<15}: {course}\")\n",
    "print(f\"{'Days'        :<15}: {days}\")\n",
    "print(f\"{'Timings'     :<15}: {timings}\")\n",
    "print(f\"{'Email'       :<15}: {email}\")\n",
    "print(f\"{'Contact'     :<15}: {contact}\")\n",
    "print(f\"{'Address'     :<15}: {address}\")\n",
    "print(\"\\n\" + \" \" * 12 + \"Saylani Welfare International Trust Head Office (Bahadurabad Karachi)\")\n"
   ]
  },
  {
   "cell_type": "markdown",
   "metadata": {},
   "source": [
    "# Topic : Operators and Expression with ambiguity"
   ]
  },
  {
   "cell_type": "raw",
   "metadata": {
    "vscode": {
     "languageId": "raw"
    }
   },
   "source": [
    "14 ) What is the output of print(2 * 3 ** 3 * 4)\n",
    "\n",
    "a) 216 -\n",
    "b )864 \n"
   ]
  },
  {
   "cell_type": "raw",
   "metadata": {},
   "source": [
    "15 ) What is the output of the expression  print(-18 // 4)\n",
    "a) -4\n",
    "b)  4\n",
    "c) -5 -\n",
    "d)  5 \n",
    " "
   ]
  },
  {
   "cell_type": "raw",
   "metadata": {},
   "source": [
    "16) \n",
    "x = 6\n",
    "y = 2\n",
    "print(x ** y) 36\n",
    "print(x // y) 3\n",
    "\n",
    "\n",
    "a) 66\n",
    "   0\n",
    "    \n",
    "b) 36\n",
    "   0\n",
    "    \n",
    "c) 66\n",
    "    3\n",
    "    \n",
    "d)  36\n",
    "    3"
   ]
  },
  {
   "cell_type": "raw",
   "metadata": {},
   "source": [
    "17)\n",
    "What is the output of print(10 - 4 * 2)\n",
    "\n",
    " a) 2\n",
    " b) 12\n",
    "\n",
    "2"
   ]
  },
  {
   "cell_type": "raw",
   "metadata": {},
   "source": [
    "18 ) What is the output of print(2%6)\n",
    "\n",
    " a) ValueError -\n",
    " b) 0.33\n",
    " c) 2"
   ]
  },
  {
   "cell_type": "raw",
   "metadata": {},
   "source": [
    "19) What is the value of the following Python Expression\n",
    "\n",
    "  print(36 / 4)\n",
    "\n",
    " a) 9.0\n",
    " b) 9"
   ]
  },
  {
   "cell_type": "markdown",
   "metadata": {},
   "source": [
    "## Run the code in the following cells and see the results"
   ]
  },
  {
   "cell_type": "markdown",
   "metadata": {
    "vscode": {
     "languageId": "raw"
    }
   },
   "source": [
    "### Example\n",
    "\n",
    "- print(2 * 3 ** 3 * 4)\n",
    "- print(-18 // 4)\n",
    "- x = 6\n",
    "- y = 2\n",
    "- print(x ** y) \n",
    "- print(x // y) \n",
    "- print(10 - 4 * 2)\n",
    "- print(2%6)"
   ]
  },
  {
   "cell_type": "raw",
   "metadata": {},
   "source": []
  },
  {
   "cell_type": "raw",
   "metadata": {},
   "source": []
  },
  {
   "cell_type": "raw",
   "metadata": {},
   "source": []
  },
  {
   "cell_type": "raw",
   "metadata": {},
   "source": []
  },
  {
   "cell_type": "raw",
   "metadata": {},
   "source": []
  }
 ],
 "metadata": {
  "kernelspec": {
   "display_name": "Python 3",
   "language": "python",
   "name": "python3"
  },
  "language_info": {
   "codemirror_mode": {
    "name": "ipython",
    "version": 3
   },
   "file_extension": ".py",
   "mimetype": "text/x-python",
   "name": "python",
   "nbconvert_exporter": "python",
   "pygments_lexer": "ipython3",
   "version": "3.12.7"
  }
 },
 "nbformat": 4,
 "nbformat_minor": 4
}
